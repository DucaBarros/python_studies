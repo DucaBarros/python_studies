{
 "cells": [
  {
   "cell_type": "markdown",
   "id": "f8edadae",
   "metadata": {},
   "source": [
    "**Aula 02 - Escrita e Sobrescrita de arquivos**"
   ]
  },
  {
   "cell_type": "markdown",
   "id": "8fdfa377",
   "metadata": {},
   "source": [
    "* _open('w')_ + _write( )_"
   ]
  },
  {
   "cell_type": "code",
   "execution_count": null,
   "id": "56183ee5",
   "metadata": {},
   "outputs": [
    {
     "name": "stdout",
     "output_type": "stream",
     "text": [
      "['Testing 1!!!Testing 2!!!Testing 3!!!']\n"
     ]
    }
   ],
   "source": [
    "# writing in the txt file\n",
    "\n",
    "file = open('lista.txt', 'w')   # w = write (after openning the file it will rewrite the content deleting the previous one)\n",
    "file.write('Testing 1!!!')\n",
    "file.write('Testing 2!!!')\n",
    "file.write('Testing 3!!!')\n",
    "file.close()\n",
    "\n",
    "file = open('lista.txt', 'r')\n",
    "reading = file.readlines()\n",
    "print(reading)\n",
    "file.close()\n",
    "\n",
    "# file result\n",
    "# Testing 1!!!Testing 2!!!Testing 3!!!"
   ]
  },
  {
   "cell_type": "code",
   "execution_count": 12,
   "id": "32b9f02e",
   "metadata": {},
   "outputs": [
    {
     "name": "stdout",
     "output_type": "stream",
     "text": [
      "['Testing 1!!!\\n', 'Testing 2!!!\\n', 'Testing 3!!!\\n']\n"
     ]
    }
   ],
   "source": [
    "# writing in the txt file\n",
    "\n",
    "file = open('lista.txt', 'w')   # w = write (after openning the file it will rewrite the content deleting the previous one)\n",
    "file.write('Testing 1!!!\\n')      # \\n = line break\n",
    "file.write('Testing 2!!!\\n')      # \\n = line break\n",
    "file.write('Testing 3!!!\\n')      # \\n = line break\n",
    "file.close()\n",
    "\n",
    "file = open('lista.txt', 'r')\n",
    "reading = file.readlines()\n",
    "print(reading)\n",
    "file.close()\n",
    "\n",
    "# file result\n",
    "# Testing 1!!!\n",
    "# Testing 2!!!\n",
    "# Testing 3!!!"
   ]
  },
  {
   "cell_type": "markdown",
   "id": "088188a4",
   "metadata": {},
   "source": [
    "* _open('w')_ + _write( )_ + _list = []_"
   ]
  },
  {
   "cell_type": "code",
   "execution_count": 14,
   "id": "5c2003a8",
   "metadata": {},
   "outputs": [
    {
     "name": "stdout",
     "output_type": "stream",
     "text": [
      "['BrandonPaulJessica']\n"
     ]
    }
   ],
   "source": [
    "# writing in the txt file the content of a list\n",
    "\n",
    "list = ['Brandon', 'Paul', 'Jessica']\n",
    "\n",
    "file = open('lista.txt', 'w')\n",
    "file.writelines(list)\n",
    "file.close()\n",
    "\n",
    "file = open('lista.txt', 'r')\n",
    "reading = file.readlines()\n",
    "print(reading)\n",
    "file.close()\n",
    "\n",
    "# file result\n",
    "# BrandonPaulJessica"
   ]
  },
  {
   "cell_type": "code",
   "execution_count": 21,
   "id": "11120367",
   "metadata": {},
   "outputs": [
    {
     "name": "stdout",
     "output_type": "stream",
     "text": [
      "['Brandon\\n', 'Paul\\n', 'Jessica\\n']\n"
     ]
    }
   ],
   "source": [
    "# writing in the txt file the content of a list\n",
    "\n",
    "list = ['Brandon\\n', 'Paul\\n', 'Jessica\\n']    # creating the list using line break\n",
    "\n",
    "file = open('lista.txt', 'w')\n",
    "file.writelines(list)\n",
    "file.close()\n",
    "\n",
    "file = open('lista.txt', 'r')\n",
    "reading = file.readlines()\n",
    "print(reading)\n",
    "file.close()\n",
    "\n",
    "# file result\n",
    "# Brandon\n",
    "# Paul\n",
    "# Jessica"
   ]
  },
  {
   "cell_type": "markdown",
   "id": "5f6f5973",
   "metadata": {},
   "source": [
    "* _open('a')_ + _write( )_ + _list = []_"
   ]
  },
  {
   "cell_type": "code",
   "execution_count": 22,
   "id": "ef9cf6c8",
   "metadata": {},
   "outputs": [
    {
     "name": "stdout",
     "output_type": "stream",
     "text": [
      "['Brandon\\n', 'Paul\\n', 'Jessica\\n', 'Mary\\n', 'Louis\\n']\n"
     ]
    }
   ],
   "source": [
    "file = open('lista.txt', 'a')\n",
    "file.write('Mary\\n')\n",
    "file.write('Louis\\n')\n",
    "file.close()\n",
    "\n",
    "file = open('lista.txt', 'r')\n",
    "reading = file.readlines()\n",
    "print(reading)\n",
    "file.close()\n",
    "\n",
    "# file result\n",
    "# Brandon\n",
    "# Paul\n",
    "# Jessica\n",
    "# Mary\n",
    "# Louis"
   ]
  }
 ],
 "metadata": {
  "kernelspec": {
   "display_name": "Python 3",
   "language": "python",
   "name": "python3"
  },
  "language_info": {
   "codemirror_mode": {
    "name": "ipython",
    "version": 3
   },
   "file_extension": ".py",
   "mimetype": "text/x-python",
   "name": "python",
   "nbconvert_exporter": "python",
   "pygments_lexer": "ipython3",
   "version": "3.13.3"
  }
 },
 "nbformat": 4,
 "nbformat_minor": 5
}
