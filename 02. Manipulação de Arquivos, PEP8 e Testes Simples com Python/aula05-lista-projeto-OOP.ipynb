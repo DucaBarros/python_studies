{
 "cells": [
  {
   "cell_type": "markdown",
   "id": "cc293a9e",
   "metadata": {},
   "source": [
    "#### Aula 05 - Convertendo o projeto para OOP\n",
    "* Assunto: _Transformar o Projeto Lista de Compras em_\n",
    "\n",
    "1. Criar o Objeto Lista de Compras\n",
    "2. Criar um método construtor para definir o nome da lista (nome_do_arquivo.txt)\n",
    "3. Métodos lista\n",
    "4. Devolver para ler e devolver os valores da lista\n",
    "5. "
   ]
  },
  {
   "cell_type": "code",
   "execution_count": 1,
   "id": "c0ed6bdf",
   "metadata": {},
   "outputs": [],
   "source": [
    "\n",
    "\n",
    "\n",
    "# with open('aula04-lista_de_compra.txt', 'a') as shop_list:\n",
    "#     new_item = input('Digite o item: ')\n",
    "#     if new_item != \"\":\n",
    "#         shop_list.write(f'-{new_item}\\n')\n",
    "#         print('')\n",
    "#         print('Item adicionado com sucesso!')\n",
    "#         print('')\n",
    "#     else:\n",
    "#         print('Nenhum item foi inserido na lista!')\n",
    "#         print('')\n",
    "\n",
    "# with open('aula04-lista_de_compra.txt', 'r') as shop_list:\n",
    "#     for line in shop_list:\n",
    "#         print(f'{line.strip()}')\n"
   ]
  }
 ],
 "metadata": {
  "kernelspec": {
   "display_name": "Python 3",
   "language": "python",
   "name": "python3"
  },
  "language_info": {
   "codemirror_mode": {
    "name": "ipython",
    "version": 3
   },
   "file_extension": ".py",
   "mimetype": "text/x-python",
   "name": "python",
   "nbconvert_exporter": "python",
   "pygments_lexer": "ipython3",
   "version": "3.13.3"
  }
 },
 "nbformat": 4,
 "nbformat_minor": 5
}
