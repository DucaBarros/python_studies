{
 "cells": [
  {
   "cell_type": "markdown",
   "id": "cc293a9e",
   "metadata": {},
   "source": [
    "#### Aula 05 - Convertendo o projeto para OOP\n",
    "* Assunto: _Transformar o Projeto Lista de Compras em OOP_\n",
    "\n",
    "1. Criar Classe para manipular o Objeto \"Lista de Compras\";\n",
    "2. Definir o nome da lista com um método construtor (nome_do_arquivo.txt);\n",
    "3. Salvar o nome do arquivo em um atributo protegido;\n",
    "4. Usar o método para ler os itens da lista;\n",
    "5. Adicionar os itens nessa nova lista;\n",
    "6. Devolver (retornar) a lista como array;\n",
    "7. Criar a lista chamando o método construtor;\n",
    "8. Criar uma função para adicionar um item novo na lista;\n",
    "9. Criar uma função para verificar se foi ou não adicionado um item novo na lista e retornar True ou False;\n",
    "10. Criar uma entrada de dados ao usuário;\n",
    "11. Verificar se foi ou não adicionado um item novo na lista;\n",
    "12. Printar ao usuário se foi ou não adicionado item novo na lista."
   ]
  },
  {
   "cell_type": "code",
   "execution_count": null,
   "id": "c0ed6bdf",
   "metadata": {},
   "outputs": [
    {
     "name": "stdout",
     "output_type": "stream",
     "text": [
      "- Brandon\n",
      "- Paul\n",
      "- Jessica\n",
      "- Mary\n",
      "- Louis\n",
      "- Kakaroto\n",
      "- Vegetta\n"
     ]
    }
   ],
   "source": [
    "\n",
    "# Classe List\n",
    "class List:                             # Criando a classe lista\n",
    "    def __init__(self, name):           # Definindo o método construtor da lista\n",
    "      self._filename = f'{name}.txt'    # Salvando o nome do arquivo em uma variável protegida\n",
    "\n",
    "    def get_list(self):                             # Definindo a função para pegar a list\n",
    "        list = []                                   # Criando a lista\n",
    "        with open(self._filename, 'r') as file:     # Usando um métido para ler os itens da lista\n",
    "          for item in file:                         # Loop para verificar os itens da lista após a abertura\n",
    "            list.append(item.strip())               # Adicionando os itens na lista\n",
    "        return list                                 # Retorna a lista pronta\n",
    "    \n",
    "\n",
    "list = List('Lista')\n",
    "for item in list.get_list():\n",
    "   print(f'- {item}')\n",
    "\n",
    "\n",
    "\n"
   ]
  }
 ],
 "metadata": {
  "kernelspec": {
   "display_name": "Python 3",
   "language": "python",
   "name": "python3"
  },
  "language_info": {
   "codemirror_mode": {
    "name": "ipython",
    "version": 3
   },
   "file_extension": ".py",
   "mimetype": "text/x-python",
   "name": "python",
   "nbconvert_exporter": "python",
   "pygments_lexer": "ipython3",
   "version": "3.13.3"
  }
 },
 "nbformat": 4,
 "nbformat_minor": 5
}
