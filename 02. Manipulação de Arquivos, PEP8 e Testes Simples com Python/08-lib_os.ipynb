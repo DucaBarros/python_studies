{
 "cells": [
  {
   "cell_type": "markdown",
   "id": "09c7722d",
   "metadata": {},
   "source": [
    "### Aula 08: Explorando os módulos os e pathlib 1/2]\n",
    "\n",
    "- Library OS: It's a local library that manipulates folders and files\n",
    "\n",
    "Disadvantage: Errors may occur depending on the operating system used, as there are different ways to work with these files and folders in each. For example, some Operational Systems use / while others \\ to write folder paths."
   ]
  },
  {
   "cell_type": "code",
   "execution_count": 2,
   "id": "5e1b9f19",
   "metadata": {},
   "outputs": [],
   "source": [
    "# Importing the library\n",
    "\n",
    "import os"
   ]
  },
  {
   "cell_type": "markdown",
   "id": "4daf3165",
   "metadata": {},
   "source": [
    "* os.mkdir: this method creates a folder (directory)"
   ]
  },
  {
   "cell_type": "code",
   "execution_count": null,
   "id": "9636dbe6",
   "metadata": {},
   "outputs": [],
   "source": [
    "# Creating a folder\n",
    "\n",
    "os.mkdir('Folder')"
   ]
  },
  {
   "cell_type": "code",
   "execution_count": null,
   "id": "1ed23cb9",
   "metadata": {},
   "outputs": [],
   "source": [
    "# Creating a folder inside another folder\n",
    "\n",
    "os.mkdir('Folder/Folder_02')"
   ]
  },
  {
   "cell_type": "markdown",
   "id": "afe94d2b",
   "metadata": {},
   "source": [
    "* os.rmdir: this method deletes a folder (Directory)"
   ]
  },
  {
   "cell_type": "code",
   "execution_count": null,
   "id": "9a6ade17",
   "metadata": {},
   "outputs": [],
   "source": [
    "# Deleting a folder inside another folder\n",
    "\n",
    "os.rmdir('Folder/Folder_02')"
   ]
  },
  {
   "cell_type": "code",
   "execution_count": null,
   "id": "559579cb",
   "metadata": {},
   "outputs": [],
   "source": [
    "# Deleting a folder (directory)\n",
    "\n",
    "os.rmdir('Folder')"
   ]
  },
  {
   "cell_type": "markdown",
   "id": "2ada7734",
   "metadata": {},
   "source": [
    "* os.getcwd: this method returns a string representing the path of current working directory"
   ]
  },
  {
   "cell_type": "code",
   "execution_count": 15,
   "id": "b761c7cb",
   "metadata": {},
   "outputs": [
    {
     "name": "stdout",
     "output_type": "stream",
     "text": [
      "d:\\Documents\\Coding\\03. PYTHON\\B7Web\\02. Manipulação de Arquivos, PEP8 e Testes Simples com Python\n"
     ]
    }
   ],
   "source": [
    "print(os.getcwd())"
   ]
  },
  {
   "cell_type": "markdown",
   "id": "b7dbe7a2",
   "metadata": {},
   "source": [
    "* os.rename( ): Renames files"
   ]
  },
  {
   "cell_type": "code",
   "execution_count": 16,
   "id": "a9b8e54c",
   "metadata": {},
   "outputs": [],
   "source": [
    "# os.rename('filename', 'new_filename')\n",
    "\n",
    "os.rename('test.py', 'test2.py')"
   ]
  },
  {
   "cell_type": "code",
   "execution_count": 17,
   "id": "9b89a0a6",
   "metadata": {},
   "outputs": [],
   "source": [
    "os.rename('test2.py', 'test.py')"
   ]
  },
  {
   "cell_type": "markdown",
   "id": "c0a8d486",
   "metadata": {},
   "source": [
    "* os.listdir: List all documments of a folder"
   ]
  },
  {
   "cell_type": "code",
   "execution_count": 3,
   "id": "63b14a54",
   "metadata": {},
   "outputs": [
    {
     "data": {
      "text/plain": [
       "['.gitignore',\n",
       " '01-open.ipynb',\n",
       " '02-write.ipynb',\n",
       " '03-with.ipynb',\n",
       " '04-lista_de_compra.txt',\n",
       " '04-projeto-lista-compra.ipynb',\n",
       " '05-lista-compra-OOP.ipynb',\n",
       " '06-try-except.ipynb',\n",
       " '07-errors.ipynb',\n",
       " '08-lib_os.ipynb',\n",
       " '09-lib_pathlib.ipynb',\n",
       " 'img',\n",
       " 'lista.txt',\n",
       " 'lista_de_compra.txt',\n",
       " 'notes.txt',\n",
       " 'test.py']"
      ]
     },
     "execution_count": 3,
     "metadata": {},
     "output_type": "execute_result"
    }
   ],
   "source": [
    "# '.' = current folder\n",
    "\n",
    "os.listdir('.')"
   ]
  },
  {
   "cell_type": "code",
   "execution_count": 38,
   "id": "8a24cb62",
   "metadata": {},
   "outputs": [
    {
     "data": {
      "text/plain": [
       "['.git',\n",
       " '01. Fundamentos de Python',\n",
       " '02. Manipulação de Arquivos, PEP8 e Testes Simples com Python']"
      ]
     },
     "execution_count": 38,
     "metadata": {},
     "output_type": "execute_result"
    }
   ],
   "source": [
    "# '..' = Goes to the folder above the current one\n",
    "\n",
    "os.listdir('..')"
   ]
  },
  {
   "cell_type": "code",
   "execution_count": 22,
   "id": "0e8c40a1",
   "metadata": {},
   "outputs": [
    {
     "data": {
      "text/plain": [
       "['aula-07-error.jpg']"
      ]
     },
     "execution_count": 22,
     "metadata": {},
     "output_type": "execute_result"
    }
   ],
   "source": [
    "# Listing a specific folder\n",
    "\n",
    "os.listdir('img')"
   ]
  },
  {
   "cell_type": "code",
   "execution_count": 42,
   "id": "1716ddec",
   "metadata": {},
   "outputs": [
    {
     "data": {
      "text/plain": [
       "['aula_22_criando_classes_tributos_e_metodos.ipynb',\n",
       " 'aula_23_entendendo_os_construtores.ipynb',\n",
       " 'aula_24_encapsulamento_e_getter-setter.ipynb',\n",
       " 'aula_25_heranca_e_reutilizacao_de_codigo.ipynb',\n",
       " 'aula_26_projeto_cadastro_de_clientes_com_OOP.ipynb',\n",
       " 'aula_26_projeto_cadastro_de_clientes_com_OOP.py',\n",
       " 'cadastro_clientes_modulo1_ex_final.py',\n",
       " 'desafio_01_notas_alunos.py',\n",
       " 'FOR_sistema_notas_alunos.py',\n",
       " 'for_tabuada.py',\n",
       " 'funcao_calculator.py',\n",
       " 'funcao_somar.py',\n",
       " 'imc_bmi.py',\n",
       " 'library.py',\n",
       " 'listas_com_classes.ipynb',\n",
       " 'lista_tabuada.py',\n",
       " 'pw_valid.py',\n",
       " 'test.py',\n",
       " 'teste.py']"
      ]
     },
     "execution_count": 42,
     "metadata": {},
     "output_type": "execute_result"
    }
   ],
   "source": [
    "# '..' = Goes to the folder above aadn enters the folder specified\n",
    "\n",
    "os.listdir('../01. Fundamentos de Python')"
   ]
  }
 ],
 "metadata": {
  "kernelspec": {
   "display_name": "Python 3",
   "language": "python",
   "name": "python3"
  },
  "language_info": {
   "codemirror_mode": {
    "name": "ipython",
    "version": 3
   },
   "file_extension": ".py",
   "mimetype": "text/x-python",
   "name": "python",
   "nbconvert_exporter": "python",
   "pygments_lexer": "ipython3",
   "version": "3.13.3"
  }
 },
 "nbformat": 4,
 "nbformat_minor": 5
}
