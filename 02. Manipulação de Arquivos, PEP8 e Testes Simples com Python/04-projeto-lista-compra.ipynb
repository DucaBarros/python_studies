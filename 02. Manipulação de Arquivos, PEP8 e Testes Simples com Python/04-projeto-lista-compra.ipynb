{
 "cells": [
  {
   "cell_type": "markdown",
   "id": "cc293a9e",
   "metadata": {},
   "source": [
    "#### Aula 04 - Projeto: Gerador de lista de compras com persistência em txt\n",
    "* Assunto: _Peristência de dados_\n",
    "\n",
    "1. Projeto: Cadasteo de Lista de compars\n",
    "2. Regras:\n",
    "3. -Ler e exibir a lista\n",
    "4. -Abrir a possibilidade de você adicionat um novo item nessa lista"
   ]
  },
  {
   "cell_type": "code",
   "execution_count": null,
   "id": "c0ed6bdf",
   "metadata": {},
   "outputs": [
    {
     "name": "stdout",
     "output_type": "stream",
     "text": [
      "Nenhum item foi inserido na lista!\n",
      "\n",
      "Lista de compras:\n",
      "-2 Kg de Carne de Sol\n",
      "-1 Kg de Sal\n",
      "-6 Tomates Maduros\n",
      "-1 Kg de MacarrÃ£o\n",
      "-3 Cebolas Roxas\n",
      "-1 DÃºzia de Ovos\n"
     ]
    }
   ],
   "source": [
    "\n",
    "with open('04-lista_de_compra.txt', 'a') as shop_list:\n",
    "    new_item = input('Digite o item: ')\n",
    "    if new_item != \"\":\n",
    "        shop_list.write(f'-{new_item}\\n')\n",
    "        print('')\n",
    "        print('Item adicionado com sucesso!')\n",
    "        print('')\n",
    "    else:\n",
    "        print('Nenhum item foi inserido na lista!')\n",
    "        print('')\n",
    "\n",
    "with open('aula04-lista_de_compra.txt', 'r') as shop_list:\n",
    "    for line in shop_list:\n",
    "        print(f'{line.strip()}')\n"
   ]
  }
 ],
 "metadata": {
  "kernelspec": {
   "display_name": "Python 3",
   "language": "python",
   "name": "python3"
  },
  "language_info": {
   "codemirror_mode": {
    "name": "ipython",
    "version": 3
   },
   "file_extension": ".py",
   "mimetype": "text/x-python",
   "name": "python",
   "nbconvert_exporter": "python",
   "pygments_lexer": "ipython3",
   "version": "3.13.3"
  }
 },
 "nbformat": 4,
 "nbformat_minor": 5
}
