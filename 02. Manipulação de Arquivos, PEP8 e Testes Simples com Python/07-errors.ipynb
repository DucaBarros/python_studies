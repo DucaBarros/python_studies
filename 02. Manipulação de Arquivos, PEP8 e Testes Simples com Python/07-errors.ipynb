{
 "cells": [
  {
   "cell_type": "markdown",
   "id": "05c6de3b",
   "metadata": {},
   "source": [
    "### Aula 07: Lidando com erros comuns no código"
   ]
  },
  {
   "cell_type": "markdown",
   "id": "9f3efd26",
   "metadata": {},
   "source": [
    "![ERRORS](./img/aula-07-error.jpg)"
   ]
  },
  {
   "cell_type": "markdown",
   "id": "e33a0a47",
   "metadata": {},
   "source": [
    "- Traceback: history of what went wrong\n",
    "\n",
    "- File: Displays the file and line where there is an error\n",
    "\n",
    "- NameError: Displays the type of error. In this case, the command/function is not recognized because there is a typing or syntax error.\n",
    "\n",
    "- _Did you mean_: Displays a suggestion of what we might be trying to write"
   ]
  }
 ],
 "metadata": {
  "language_info": {
   "name": "python"
  }
 },
 "nbformat": 4,
 "nbformat_minor": 5
}
