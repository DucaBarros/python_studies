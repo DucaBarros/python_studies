{
 "cells": [
  {
   "cell_type": "markdown",
   "id": "cdc56e19",
   "metadata": {},
   "source": [
    "### Aula 06: Tratamento de exceções com try, except, else e finally"
   ]
  },
  {
   "cell_type": "code",
   "execution_count": 13,
   "id": "90c570b3",
   "metadata": {},
   "outputs": [
    {
     "name": "stdout",
     "output_type": "stream",
     "text": [
      "There was an error!\n"
     ]
    }
   ],
   "source": [
    "# try + except + Exception\n",
    "# Exception: any exception\n",
    "\n",
    "try:\n",
    "    number = int(input('Type a number: '))\n",
    "    print(f'You typed the number: {number}')\n",
    "except Exception:\n",
    "    print(f'There was an error!')"
   ]
  },
  {
   "cell_type": "code",
   "execution_count": 34,
   "id": "a02347ab",
   "metadata": {},
   "outputs": [
    {
     "name": "stdout",
     "output_type": "stream",
     "text": [
      "You typed the wrong value. \"Integer\" expected!\n"
     ]
    }
   ],
   "source": [
    "# try + except ValueError\n",
    "# ValueError: when the entry type is wrong\n",
    "\n",
    "try:\n",
    "    number = int(input('Type a number: '))\n",
    "    print(f'You typed the number: {number}')\n",
    "except ValueError:\n",
    "    print('You typed the wrong value. \"Integer\" expected!')\n",
    "\n"
   ]
  },
  {
   "cell_type": "code",
   "execution_count": 33,
   "id": "67783a3e",
   "metadata": {},
   "outputs": [
    {
     "name": "stdout",
     "output_type": "stream",
     "text": [
      "You typed the wrong value. \"Integer\" expected!\n"
     ]
    }
   ],
   "source": [
    "# try + except + Exception + else\n",
    "# else: continue with other code executions\n",
    "\n",
    "try:\n",
    "    number = int(input('Type a number: '))\n",
    "    print(f'You typed the number: {number}')\n",
    "except ValueError:\n",
    "    print('You typed the wrong value. \"Integer\" expected!')\n",
    "else:\n",
    "    print('Continue the code...')"
   ]
  },
  {
   "cell_type": "code",
   "execution_count": 19,
   "id": "75943e26",
   "metadata": {},
   "outputs": [
    {
     "name": "stdout",
     "output_type": "stream",
     "text": [
      "The file does not exist!\n"
     ]
    }
   ],
   "source": [
    "# try + except FileNotFoundError\n",
    "# FileNotFoundError: When the file cannot be found\n",
    "\n",
    "try:\n",
    "    file = open('text00001.txt', 'r')\n",
    "except FileNotFoundError:\n",
    "    print('The file does not exist!')"
   ]
  },
  {
   "cell_type": "code",
   "execution_count": 32,
   "id": "8f0e8cd0",
   "metadata": {},
   "outputs": [
    {
     "name": "stdout",
     "output_type": "stream",
     "text": [
      "You typed the wrong value. \"Integer\" expected!\n",
      "The code ends here!\n"
     ]
    }
   ],
   "source": [
    "# try + except + finally\n",
    "# finally: Run whether it's an error or not\n",
    "\n",
    "try:\n",
    "    number = int(input('Type a number: '))\n",
    "    print(f'You typed the number: {number}')\n",
    "except ValueError:\n",
    "    print('You typed the wrong value. \"Integer\" expected!')\n",
    "finally:\n",
    "    print('The code ends here!')"
   ]
  }
 ],
 "metadata": {
  "kernelspec": {
   "display_name": "Python 3",
   "language": "python",
   "name": "python3"
  },
  "language_info": {
   "codemirror_mode": {
    "name": "ipython",
    "version": 3
   },
   "file_extension": ".py",
   "mimetype": "text/x-python",
   "name": "python",
   "nbconvert_exporter": "python",
   "pygments_lexer": "ipython3",
   "version": "3.13.3"
  }
 },
 "nbformat": 4,
 "nbformat_minor": 5
}
