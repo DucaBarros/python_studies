{
 "cells": [
  {
   "cell_type": "markdown",
   "id": "967e0fde",
   "metadata": {},
   "source": [
    "#### Aula 3 - Usando with open: Boas práticas ao lidar com arquivos\n",
    "\n",
    "- _with_ closes the document once it executes the function after it\n",
    "\n",
    "1. _with_ + _open_   "
   ]
  },
  {
   "cell_type": "code",
   "execution_count": 25,
   "id": "f696dfc0",
   "metadata": {},
   "outputs": [
    {
     "name": "stdout",
     "output_type": "stream",
     "text": [
      "Brandon\n",
      "Paul\n",
      "Jessica\n",
      "Mary\n",
      "Louis\n"
     ]
    }
   ],
   "source": [
    "with open('lista.txt', 'r') as files:\n",
    "    for line in files:\n",
    "        print(line.strip())\n"
   ]
  },
  {
   "cell_type": "markdown",
   "id": "35c8bdeb",
   "metadata": {},
   "source": [
    "2. _open_ + _with_ + write"
   ]
  },
  {
   "cell_type": "code",
   "execution_count": 26,
   "id": "d830c72d",
   "metadata": {},
   "outputs": [
    {
     "name": "stdout",
     "output_type": "stream",
     "text": [
      "The words were added succesfully.\n",
      "Linha 1: Brandon\n",
      "Linha 2: Paul\n",
      "Linha 3: Jessica\n",
      "Linha 4: Mary\n",
      "Linha 5: Louis\n",
      "Linha 6: Kakaroto\n",
      "Linha 7: Vegetta\n"
     ]
    }
   ],
   "source": [
    "with open('lista.txt', 'a') as files:\n",
    "    files.write('Kakaroto\\n')\n",
    "    files.write('Vegetta\\n')\n",
    "print('The words were added succesfully.')\n",
    "\n",
    "\n",
    "file = open('lista.txt', 'r')\n",
    "lines = file.readlines()\n",
    "\n",
    "li = 0\n",
    "for line in lines:\n",
    "    li += 1\n",
    "    print(f'Linha {li}: {line.strip()}')"
   ]
  }
 ],
 "metadata": {
  "kernelspec": {
   "display_name": "Python 3",
   "language": "python",
   "name": "python3"
  },
  "language_info": {
   "codemirror_mode": {
    "name": "ipython",
    "version": 3
   },
   "file_extension": ".py",
   "mimetype": "text/x-python",
   "name": "python",
   "nbconvert_exporter": "python",
   "pygments_lexer": "ipython3",
   "version": "3.13.3"
  }
 },
 "nbformat": 4,
 "nbformat_minor": 5
}
