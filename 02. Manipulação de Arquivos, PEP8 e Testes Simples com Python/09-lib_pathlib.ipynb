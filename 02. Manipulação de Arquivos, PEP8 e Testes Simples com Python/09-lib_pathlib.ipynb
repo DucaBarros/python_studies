{
 "cells": [
  {
   "cell_type": "markdown",
   "id": "39a2f75d",
   "metadata": {},
   "source": [
    "### Aula 09: Explorando os módulos os e pathlib [2/2]\n",
    "\n",
    "- Library PATHLIB: It's a local library that manipulates folders and files\n",
    "- Advantage: more flexible, does not occur an error if used in different Operational Systems."
   ]
  },
  {
   "cell_type": "code",
   "execution_count": 68,
   "id": "1895712e",
   "metadata": {},
   "outputs": [],
   "source": [
    "# Importing the whole library\n",
    "\n",
    "import pathlib"
   ]
  },
  {
   "cell_type": "markdown",
   "id": "544eaa41",
   "metadata": {},
   "source": [
    "* mkdir: this method creates a folder (directory)\n",
    "* rmdir: This method deletes a folder (directory)"
   ]
  },
  {
   "cell_type": "code",
   "execution_count": 62,
   "id": "66920eeb",
   "metadata": {},
   "outputs": [
    {
     "name": "stdout",
     "output_type": "stream",
     "text": [
      "Folder already exists!\n"
     ]
    }
   ],
   "source": [
    "# Creating a folder\n",
    "try:\n",
    "    pathlib.Path.mkdir('Folder')\n",
    "    print('Folder created succesfully!')\n",
    "except FileExistsError:\n",
    "    print('Folder already exists!')"
   ]
  },
  {
   "cell_type": "code",
   "execution_count": 63,
   "id": "22796ce6",
   "metadata": {},
   "outputs": [
    {
     "name": "stdout",
     "output_type": "stream",
     "text": [
      "Folder deleted successfully\n"
     ]
    }
   ],
   "source": [
    "# Deleting a folder\n",
    "try:\n",
    "    pathlib.Path.rmdir('Folder')\n",
    "    print('Folder deleted successfully')\n",
    "except FileNotFoundError:\n",
    "    print('Folder does not exist!')"
   ]
  },
  {
   "cell_type": "code",
   "execution_count": 39,
   "id": "8543ded7",
   "metadata": {},
   "outputs": [
    {
     "name": "stdout",
     "output_type": "stream",
     "text": [
      "Folder deleted successfully!\n"
     ]
    }
   ],
   "source": [
    "# Creating a folder if it does not exist or deleting it if it exists\n",
    "\n",
    "new_folder = pathlib.Path('Folder')\n",
    "\n",
    "if new_folder.exists() == False:\n",
    "    new_folder.mkdir()\n",
    "    print('Folder created successfully!')\n",
    "else:\n",
    "    new_folder.rmdir()\n",
    "    print('Folder deleted successfully!')\n"
   ]
  },
  {
   "cell_type": "code",
   "execution_count": 76,
   "id": "f1c3c825",
   "metadata": {},
   "outputs": [],
   "source": [
    "# Importing something specific from libraries\n",
    "\n",
    "from pathlib import Path\n",
    "from os import mkdir, rmdir"
   ]
  },
  {
   "cell_type": "code",
   "execution_count": null,
   "id": "a926c74a",
   "metadata": {},
   "outputs": [
    {
     "name": "stdout",
     "output_type": "stream",
     "text": [
      "This file is not here!\n"
     ]
    }
   ],
   "source": [
    "# Veryfying whether a file is inside the folder\n",
    "\n",
    "myfile = Path('script.py')\n",
    "\n",
    "if myfile.exists() == True:\n",
    "    print('This file is here!')\n",
    "else:\n",
    "    print('This file is not here!')"
   ]
  },
  {
   "cell_type": "code",
   "execution_count": null,
   "id": "6c896c60",
   "metadata": {},
   "outputs": [
    {
     "name": "stdout",
     "output_type": "stream",
     "text": [
      "This file is not here!\n"
     ]
    }
   ],
   "source": [
    "# Veryfying whether a file is inside the folder\n",
    "\n",
    "myfile = Path('clients.txt')\n",
    "\n",
    "if myfile.exists() == False:\n",
    "    print('This file is not here!')\n",
    "else:\n",
    "    print('This file is here!')"
   ]
  }
 ],
 "metadata": {
  "kernelspec": {
   "display_name": "Python 3",
   "language": "python",
   "name": "python3"
  },
  "language_info": {
   "codemirror_mode": {
    "name": "ipython",
    "version": 3
   },
   "file_extension": ".py",
   "mimetype": "text/x-python",
   "name": "python",
   "nbconvert_exporter": "python",
   "pygments_lexer": "ipython3",
   "version": "3.13.3"
  }
 },
 "nbformat": 4,
 "nbformat_minor": 5
}
