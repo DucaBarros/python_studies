{
 "cells": [
  {
   "cell_type": "markdown",
   "id": "595a089f",
   "metadata": {},
   "source": [
    "#### Aula 01 - Leitura de arquivos .txt com open\n",
    "\n",
    "- r = read = ler o arquivo\n",
    "- w = write = escrever no arquivo\n",
    "- a = append = adicionar ao conteúdo original (no final)\n",
    "- x = create = criar um novo arquivo"
   ]
  },
  {
   "cell_type": "code",
   "execution_count": 2,
   "id": "0701932b",
   "metadata": {},
   "outputs": [
    {
     "name": "stdout",
     "output_type": "stream",
     "text": [
      "Texto 01\n",
      "Texto 02\n",
      "Texto 03\n"
     ]
    }
   ],
   "source": [
    "# Lendo o arquivo lista.txt\n",
    "\n",
    "file = open('lista.txt', 'r')\n",
    "content = file.read()\n",
    "print(content)"
   ]
  },
  {
   "cell_type": "code",
   "execution_count": 6,
   "id": "23d94854",
   "metadata": {},
   "outputs": [
    {
     "name": "stdout",
     "output_type": "stream",
     "text": [
      "Linha: Texto 01\n",
      "\n",
      "Linha: Texto 02\n",
      "\n",
      "Linha: Texto 03\n"
     ]
    }
   ],
   "source": [
    "# Lendo o arquivo lista.txt linha a linha (com quebra de linhas)\n",
    "\n",
    "file = open('lista.txt', 'r')\n",
    "lines = file.readlines()\n",
    "\n",
    "for line in lines:\n",
    "    print(f'Linha: {line}')"
   ]
  },
  {
   "cell_type": "code",
   "execution_count": 7,
   "id": "81f13ed8",
   "metadata": {},
   "outputs": [
    {
     "name": "stdout",
     "output_type": "stream",
     "text": [
      "Linha: Texto 01\n",
      "Linha: Texto 02\n",
      "Linha: Texto 03\n"
     ]
    }
   ],
   "source": [
    "# Lendo o arquivo lista.txt linha a linha (com quebra de linhas) c/ strip()\n",
    "\n",
    "file = open('lista.txt', 'r')\n",
    "lines = file.readlines()\n",
    "\n",
    "for line in lines:\n",
    "    print(f'Linha: {line.strip()}')\n",
    "\n",
    "#strip() = retira os excessos do começo e fim das strings"
   ]
  }
 ],
 "metadata": {
  "kernelspec": {
   "display_name": "Python 3",
   "language": "python",
   "name": "python3"
  },
  "language_info": {
   "codemirror_mode": {
    "name": "ipython",
    "version": 3
   },
   "file_extension": ".py",
   "mimetype": "text/x-python",
   "name": "python",
   "nbconvert_exporter": "python",
   "pygments_lexer": "ipython3",
   "version": "3.13.3"
  }
 },
 "nbformat": 4,
 "nbformat_minor": 5
}
