{
 "cells": [
  {
   "cell_type": "markdown",
   "id": "1f8fc094",
   "metadata": {},
   "source": [
    "#### Aula 24 - Encapsulamento e getter/setter"
   ]
  },
  {
   "cell_type": "code",
   "execution_count": 4,
   "id": "f823302e",
   "metadata": {},
   "outputs": [
    {
     "name": "stdout",
     "output_type": "stream",
     "text": [
      "Black Sabbath Vinyl price is $20\n",
      "Metallica Blu-ray price is $40\n"
     ]
    }
   ],
   "source": [
    "# Creating a Product class with a constructor and methods\n",
    "class Product:\n",
    "    def __init__(self, name, price):\n",
    "        self.name = name\n",
    "        self.price = price\n",
    "\n",
    "    def summary(self):\n",
    "        print(f'{self.name} price is ${self.price}')\n",
    "\n",
    "p1 = Product('Linkin Park CD', 20)\n",
    "p2 = Product('System of a Down DVD', 40)\n",
    "\n",
    "p1.name = 'Black Sabbath Vinyl'\n",
    "p2.name = 'Metallica Blu-ray'\n",
    "p1.summary()\n",
    "p2.summary()\n",
    "\n",
    "\n"
   ]
  },
  {
   "cell_type": "markdown",
   "id": "e6a886f6",
   "metadata": {},
   "source": [
    "**Como proteger um produto para ele não ser alterado**"
   ]
  },
  {
   "cell_type": "code",
   "execution_count": null,
   "id": "5df6d735",
   "metadata": {},
   "outputs": [],
   "source": [
    "class Product:\n",
    "    def __init__(self, name, price):\n",
    "        self._name = name # Protected attribute (use the _ prefix - just a convention)\n",
    "        self.price = price\n",
    "\n",
    "    def get_name(self): # Getter method for name\n",
    "        return self._name\n",
    "    \n",
    "    def get_price(self, price): # Getter method for price\n",
    "        return self._price\n",
    "    \n",
    "    def set_price(self, new_price): # Setter method for price\n",
    "        self._price = float(new_price)\n",
    "    \n",
    "p1.set_price(30)  # Setting a new price using the setter method\n",
    "print(f'The product {p1.get_name()} now costs ${p1.get_price()}')  # Getting the name and price using getter methods\n",
    "\n"
   ]
  }
 ],
 "metadata": {
  "kernelspec": {
   "display_name": "Python 3",
   "language": "python",
   "name": "python3"
  },
  "language_info": {
   "codemirror_mode": {
    "name": "ipython",
    "version": 3
   },
   "file_extension": ".py",
   "mimetype": "text/x-python",
   "name": "python",
   "nbconvert_exporter": "python",
   "pygments_lexer": "ipython3",
   "version": "3.13.3"
  }
 },
 "nbformat": 4,
 "nbformat_minor": 5
}
