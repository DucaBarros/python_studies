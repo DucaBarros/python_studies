{
 "cells": [
  {
   "cell_type": "markdown",
   "id": "3d358fd8",
   "metadata": {},
   "source": [
    "#### Aula 22 - Criando Classes, Atributos e Métodos"
   ]
  },
  {
   "cell_type": "code",
   "execution_count": null,
   "id": "f0bae1e2",
   "metadata": {},
   "outputs": [],
   "source": [
    "class Product:  #Class funciona como um grupo\n",
    "    pass        # pass faz o python aceitar trasnpassar essas linhas de código do class\n",
    "\n",
    "p1 = Product()\n",
    "p1.name = 'CD do Linkin Park'\n",
    "p1.price = 20\n",
    "\n",
    "p2 = Product()\n",
    "p2.name = 'DVD do System of a Down'\n",
    "p2.price = 40"
   ]
  },
  {
   "cell_type": "code",
   "execution_count": 3,
   "id": "876998ff",
   "metadata": {},
   "outputs": [
    {
     "name": "stdout",
     "output_type": "stream",
     "text": [
      "CD do Linkin Park custa R$ 20\n",
      "DVD do System of a Down custa R$ 40\n"
     ]
    }
   ],
   "source": [
    "class Product:\n",
    "    def summary(self):\n",
    "        print(f'{self.name} custa R$ {self.price}')\n",
    "\n",
    "p1 = Product()\n",
    "p1.name = 'CD do Linkin Park'\n",
    "p1.price = 20\n",
    "\n",
    "p2 = Product()\n",
    "p2.name = 'DVD do System of a Down'\n",
    "p2.price = 40\n",
    "\n",
    "p1.summary()\n",
    "p2.summary()"
   ]
  }
 ],
 "metadata": {
  "kernelspec": {
   "display_name": "Python 3",
   "language": "python",
   "name": "python3"
  },
  "language_info": {
   "codemirror_mode": {
    "name": "ipython",
    "version": 3
   },
   "file_extension": ".py",
   "mimetype": "text/x-python",
   "name": "python",
   "nbconvert_exporter": "python",
   "pygments_lexer": "ipython3",
   "version": "3.13.3"
  }
 },
 "nbformat": 4,
 "nbformat_minor": 5
}
