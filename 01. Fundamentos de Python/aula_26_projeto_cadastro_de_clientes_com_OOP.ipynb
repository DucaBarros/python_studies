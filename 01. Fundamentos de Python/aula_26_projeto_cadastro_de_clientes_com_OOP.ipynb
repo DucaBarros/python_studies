{
 "cells": [
  {
   "cell_type": "markdown",
   "id": "36633eec",
   "metadata": {},
   "source": [
    "**Projeto: Cadastro de Clientes com OOP**"
   ]
  },
  {
   "cell_type": "code",
   "execution_count": 97,
   "id": "2b13256e",
   "metadata": {},
   "outputs": [
    {
     "name": "stdout",
     "output_type": "stream",
     "text": [
      "Cliente: João | Idade: 27 | login: joao1998@gmail.com | LTV: R$ 8960\n"
     ]
    },
    {
     "ename": "TypeError",
     "evalue": "soma_ltv() missing 1 required positional argument: 'Client'",
     "output_type": "error",
     "traceback": [
      "\u001b[31m---------------------------------------------------------------------------\u001b[39m",
      "\u001b[31mTypeError\u001b[39m                                 Traceback (most recent call last)",
      "\u001b[36mCell\u001b[39m\u001b[36m \u001b[39m\u001b[32mIn[97]\u001b[39m\u001b[32m, line 41\u001b[39m\n\u001b[32m     39\u001b[39m \u001b[38;5;28;01mfor\u001b[39;00m client \u001b[38;5;129;01min\u001b[39;00m list_of_clients:\n\u001b[32m     40\u001b[39m     client.display_clients()\n\u001b[32m---> \u001b[39m\u001b[32m41\u001b[39m     \u001b[43msoma_ltv\u001b[49m\u001b[43m(\u001b[49m\u001b[43m)\u001b[49m\n",
      "\u001b[31mTypeError\u001b[39m: soma_ltv() missing 1 required positional argument: 'Client'"
     ]
    }
   ],
   "source": [
    "# Projeto: Cadastro de Clientes\n",
    "# Regras:\n",
    "# - Classe Pessoa (nome e idade)\n",
    "# - Classe CLiente (email e LTV = Lifetime Value)\n",
    "# Cadastre 2 clientes diferentes em uma lista\n",
    "# Exiba a lista de todos os clientes cadastrados\n",
    "# Extra: Exiba a soma dos LTV de todos os clientes\n",
    "\n",
    "# Criando classe de pessoas e definindo método construtor\n",
    "class People:\n",
    "    def __init__(self, name, age):\n",
    "        self.name = name\n",
    "        self.age = age\n",
    "\n",
    "# Criando classe de clientes e definindo método construtor\n",
    "class Client(People):\n",
    "    def __init__(self, name, age, email, ltv):\n",
    "        super().__init__(name, age)\n",
    "        self.email = email\n",
    "        self.ltv = ltv\n",
    "\n",
    "    # Função que mostra informação dos clientes na tela\n",
    "    def display_clients(self):\n",
    "        print(f'Cliente: {self.name} | Idade: {self.age} | login: {self.email} | LTV: R$ {self.ltv}')\n",
    "\n",
    "    # Função que printa a soma dos LTV dos clientes\n",
    "    def soma_ltv(Client):\n",
    "        total = super().__init__(self.ltv)\n",
    "        return total\n",
    "\n",
    "\n",
    "# Lista de Clientes\n",
    "list_of_clients = [\n",
    "    Client(\"João\", 27, \"joao1998@gmail.com\", 8960),\n",
    "    Client(\"Maria\", 35, \"maria_maria@gmail.com\", 3300)\n",
    "]\n",
    "\n",
    "# Mostrando Lista de Clientes na tela\n",
    "for client in list_of_clients:\n",
    "    client.display_clients()\n",
    "    soma_ltv()\n",
    "\n"
   ]
  }
 ],
 "metadata": {
  "kernelspec": {
   "display_name": "Python 3",
   "language": "python",
   "name": "python3"
  },
  "language_info": {
   "codemirror_mode": {
    "name": "ipython",
    "version": 3
   },
   "file_extension": ".py",
   "mimetype": "text/x-python",
   "name": "python",
   "nbconvert_exporter": "python",
   "pygments_lexer": "ipython3",
   "version": "3.13.3"
  }
 },
 "nbformat": 4,
 "nbformat_minor": 5
}
