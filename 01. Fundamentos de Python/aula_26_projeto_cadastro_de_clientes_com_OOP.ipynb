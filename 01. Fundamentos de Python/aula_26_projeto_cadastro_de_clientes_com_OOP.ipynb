{
 "cells": [
  {
   "cell_type": "markdown",
   "id": "36633eec",
   "metadata": {},
   "source": [
    "**Aula 26 - Projeto: Cadastro de Clientes com OOP**\n",
    "\n",
    "- OOP: Object-Oriented Programming"
   ]
  },
  {
   "cell_type": "code",
   "execution_count": null,
   "id": "2b13256e",
   "metadata": {},
   "outputs": [
    {
     "name": "stdout",
     "output_type": "stream",
     "text": [
      "###### SISTEMA DE CADASTRO DE CLIENTES ######\n",
      "---------------------------------------------\n",
      "                                             \n",
      "Cliente: João | Idade: 27 | login: joao1998@gmail.com | LTV: R$ 8960.00\n",
      "Cliente: Maria | Idade: 35 | login: maria_maria@gmail.com | LTV: R$ 3300.00\n",
      "Cliente: Manuel | Idade: 44 | login: manu@mail.com | LTV: R$ 95869.00\n",
      "                                             \n",
      "---------------------------------------------\n",
      "A soma total dos LTV é: 108129.00\n",
      "---------------------------------------------\n"
     ]
    }
   ],
   "source": [
    "# Projeto: Cadastro de Clientes\n",
    "# Regras:\n",
    "# - Classe Pessoa (nome e idade)\n",
    "# - Classe CLiente (email e LTV = Lifetime Value)\n",
    "# Cadastre 2 clientes diferentes em uma lista\n",
    "# Exiba a lista de todos os clientes cadastrados\n",
    "# Extra: Exiba a soma dos LTV de todos os clientes\n",
    "\n",
    "# Função Global Cabeçalho Tela de Cadastro de Clientes\n",
    "def head():\n",
    "    print('###### SISTEMA DE CADASTRO DE CLIENTES ######')\n",
    "    print('---------------------------------------------')\n",
    "    print('                                             ')\n",
    "\n",
    "# Criando classe de pessoas e definindo método construtor\n",
    "class People:\n",
    "    def __init__(self, name, age):\n",
    "        self.name = name\n",
    "        self.age = age\n",
    "\n",
    "# Criando classe de clientes e definindo método construtor\n",
    "class Client(People):\n",
    "    def __init__(self, name, age, email, ltv):\n",
    "        super().__init__(name, age)\n",
    "        self.email = email\n",
    "        self.ltv = float(ltv)\n",
    "\n",
    "    # Função que mostra informação dos clientes na tela\n",
    "    def display_clients(self):\n",
    "        print(f'Cliente: {self.name} | Idade: {self.age} | login: {self.email} | LTV: R$ {self.ltv:.2f}')\n",
    "\n",
    "# list_of_clients = [] \n",
    "# clients.append(Client('João', 27, 'joao1998@gmail.com', 8960))\n",
    "\n",
    "# Lista de Clientes\n",
    "list_of_clients = [\n",
    "    Client('João', 27, 'joao1998@gmail.com', 8960),\n",
    "    Client('Maria', 35, 'maria_maria@gmail.com', 3300)\n",
    "]\n",
    "\n",
    "# Solicitando os dados do novo cliente a cadastrar\n",
    "# name = input('Digite o nome do cliente: ').title()\n",
    "# age = int(input('Digite a idade do cliente: '))\n",
    "# email = input('Digite o email do cliente: ')\n",
    "# ltv = float(input('Digite o LTV do cliente: '))\n",
    "\n",
    "# # Adicionando novos clientes na lista list_of_clients[]\n",
    "# new_client = Client(name, age, email, ltv)\n",
    "# list_of_clients.append(new_client)\n",
    "\n",
    "# Tela do cadastro de clientes\n",
    "head()\n",
    "\n",
    "# Soma de LTV Total\n",
    "sum_total_ltv = 0\n",
    "\n",
    "# Mostrando Lista de Clientes na tela\n",
    "for client in list_of_clients:\n",
    "    client.display_clients()\n",
    "    sum_total_ltv += client.ltv\n",
    "\n",
    "# Exibindo Soma dos LTV de todos os clientes\n",
    "print('                                             ')\n",
    "print('---------------------------------------------')\n",
    "print(f'A soma total dos LTV é: {sum_total_ltv:.2f}')\n",
    "print('---------------------------------------------')\n",
    "\n"
   ]
  }
 ],
 "metadata": {
  "kernelspec": {
   "display_name": "Python 3",
   "language": "python",
   "name": "python3"
  },
  "language_info": {
   "codemirror_mode": {
    "name": "ipython",
    "version": 3
   },
   "file_extension": ".py",
   "mimetype": "text/x-python",
   "name": "python",
   "nbconvert_exporter": "python",
   "pygments_lexer": "ipython3",
   "version": "3.13.3"
  }
 },
 "nbformat": 4,
 "nbformat_minor": 5
}
