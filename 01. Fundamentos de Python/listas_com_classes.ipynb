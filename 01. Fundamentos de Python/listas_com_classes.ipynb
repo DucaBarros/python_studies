{
 "cells": [
  {
   "cell_type": "markdown",
   "id": "a0360e18",
   "metadata": {},
   "source": [
    "**Trabalhando com Listas e Classes**"
   ]
  },
  {
   "cell_type": "code",
   "execution_count": 2,
   "id": "5aa71074",
   "metadata": {},
   "outputs": [
    {
     "name": "stdout",
     "output_type": "stream",
     "text": [
      "Este carro é da marca Toyota e foi fabricado no ano 1999.\n",
      "Este carro é da marca Honda e foi fabricado no ano 2005.\n",
      "Este carro é da marca Ford e foi fabricado no ano 2012.\n"
     ]
    }
   ],
   "source": [
    "# Método construtor da classe\n",
    "class Car:\n",
    "    def __init__(self, brand, year):\n",
    "        self.brand = brand\n",
    "        self.year = year\n",
    "\n",
    "# Função p/ mostrar mensagem de marca e ano na tela\n",
    "    def display_info(self):\n",
    "        print(f'Este carro é da marca {self.brand} e foi fabricado no ano {self.year}.')\n",
    "\n",
    "# Lista de carros\n",
    "cars = [\n",
    "    Car(\"Toyota\", 1999),\n",
    "    Car(\"Honda\", 2005),\n",
    "    Car(\"Ford\", 2012)\n",
    "]\n",
    "\n",
    "# Mostrando na tela\n",
    "for car in cars:\n",
    "    car.display_info()"
   ]
  }
 ],
 "metadata": {
  "kernelspec": {
   "display_name": "Python 3",
   "language": "python",
   "name": "python3"
  },
  "language_info": {
   "codemirror_mode": {
    "name": "ipython",
    "version": 3
   },
   "file_extension": ".py",
   "mimetype": "text/x-python",
   "name": "python",
   "nbconvert_exporter": "python",
   "pygments_lexer": "ipython3",
   "version": "3.13.3"
  }
 },
 "nbformat": 4,
 "nbformat_minor": 5
}
