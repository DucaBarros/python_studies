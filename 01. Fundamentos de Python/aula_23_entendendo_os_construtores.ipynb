{
 "cells": [
  {
   "cell_type": "markdown",
   "id": "e83e07c2",
   "metadata": {},
   "source": [
    "#### Aula 23 - Entendendo os Construtores"
   ]
  },
  {
   "cell_type": "code",
   "execution_count": 6,
   "id": "15b96c26",
   "metadata": {},
   "outputs": [
    {
     "name": "stdout",
     "output_type": "stream",
     "text": [
      "Linkin Park CD price is $20\n",
      "System of a Down DVD price is $40\n"
     ]
    }
   ],
   "source": [
    "# Creating a Product class with a constructor and methods\n",
    "class Product:\n",
    "    def __init__(self, name, price):    # Constructor __init__\n",
    "        self.name = name\n",
    "        self.price = price\n",
    "\n",
    "    def summary(self):  # Method to print product details\n",
    "        print(f'{self.name} price is ${self.price}')\n",
    "\n",
    "p1 = Product('Linkin Park CD', 20)  # Creating an instance of Product\n",
    "p2 = Product('System of a Down DVD', 40)  # Creating another instance\n",
    "\n",
    "# Modifying the Product class to include default values\n",
    "p1.summary()\n",
    "p2.summary()"
   ]
  }
 ],
 "metadata": {
  "kernelspec": {
   "display_name": "Python 3",
   "language": "python",
   "name": "python3"
  },
  "language_info": {
   "codemirror_mode": {
    "name": "ipython",
    "version": 3
   },
   "file_extension": ".py",
   "mimetype": "text/x-python",
   "name": "python",
   "nbconvert_exporter": "python",
   "pygments_lexer": "ipython3",
   "version": "3.13.3"
  }
 },
 "nbformat": 4,
 "nbformat_minor": 5
}
