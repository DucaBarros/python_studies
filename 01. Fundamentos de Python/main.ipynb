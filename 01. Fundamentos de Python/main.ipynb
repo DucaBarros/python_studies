{
 "cells": [
  {
   "cell_type": "markdown",
   "id": "1f8fc094",
   "metadata": {},
   "source": [
    "#### Aula 24 - Encapsulamento e getter/setter"
   ]
  },
  {
   "cell_type": "code",
   "execution_count": null,
   "id": "f823302e",
   "metadata": {},
   "outputs": [],
   "source": []
  }
 ],
 "metadata": {
  "language_info": {
   "name": "python"
  }
 },
 "nbformat": 4,
 "nbformat_minor": 5
}
