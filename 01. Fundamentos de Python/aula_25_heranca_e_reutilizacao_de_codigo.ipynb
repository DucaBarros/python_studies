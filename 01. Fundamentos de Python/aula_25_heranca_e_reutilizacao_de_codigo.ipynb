{
 "cells": [
  {
   "cell_type": "markdown",
   "id": "1e0d4f9c",
   "metadata": {},
   "source": [
    "**Aula 25 - Herança e Reutilização de Código**"
   ]
  },
  {
   "cell_type": "code",
   "execution_count": 5,
   "id": "7f2e407a",
   "metadata": {},
   "outputs": [
    {
     "name": "stdout",
     "output_type": "stream",
     "text": [
      "Hello there, my name is He-man and I'm 22 years old.\n"
     ]
    }
   ],
   "source": [
    "class People:\n",
    "    def __init__(self, name, age):\n",
    "        self.name = name\n",
    "        self.age = age\n",
    "    \n",
    "    def hello_there(self):\n",
    "        print(f\"Hello there, my name is {self.name} and I'm {self.age} years old.\")\n",
    "\n",
    "person1 = People(\"He-man\", 22)\n",
    "person1.hello_there()\n",
    "              "
   ]
  },
  {
   "cell_type": "markdown",
   "id": "f513c0be",
   "metadata": {},
   "source": [
    "**Criando classe funcionário que herda propriedades (nome, idade) da classe pessoa**"
   ]
  },
  {
   "cell_type": "code",
   "execution_count": null,
   "id": "5879786f",
   "metadata": {},
   "outputs": [
    {
     "name": "stdout",
     "output_type": "stream",
     "text": [
      "Meu nome é Vegetta, idade 35 e meu salário é mais de R$ 8000.\n"
     ]
    }
   ],
   "source": [
    "class People:\n",
    "    def __init__(self, name, age):\n",
    "        self.name = name\n",
    "        self.age = age\n",
    "\n",
    "    def hello_there(self):\n",
    "        print(f\"Hello there, my name is {self.name} and I'm {self.age} years old.\")\n",
    "\n",
    "class Employee(People):\n",
    "    def __init__(self, name, age, salary):\n",
    "        super().__init__(name, age)\n",
    "        self.salary = salary\n",
    "\n",
    "    def display_salary(self):\n",
    "        print(f\"Meu nome é {self.name}, idade {self.age} e meu salário é mais de R$ {self.salary}.\")\n",
    "\n",
    "\n",
    "e1 = Employee(\"Vegetta\", 35, 8000)\n",
    "e1.display_salary()\n",
    "\n",
    "for "
   ]
  }
 ],
 "metadata": {
  "kernelspec": {
   "display_name": "Python 3",
   "language": "python",
   "name": "python3"
  },
  "language_info": {
   "codemirror_mode": {
    "name": "ipython",
    "version": 3
   },
   "file_extension": ".py",
   "mimetype": "text/x-python",
   "name": "python",
   "nbconvert_exporter": "python",
   "pygments_lexer": "ipython3",
   "version": "3.13.3"
  }
 },
 "nbformat": 4,
 "nbformat_minor": 5
}
